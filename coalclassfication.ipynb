{
  "cells": [
    {
      "cell_type": "code",
      "execution_count": null,
      "metadata": {
        "id": "hrSgLG9AuIl8"
      },
      "outputs": [],
      "source": [
        "from keras.models import Sequential\n",
        "from keras.layers import Convolution2D,Flatten,Dense,MaxPooling2D\n",
        "from keras.preprocessing.image import ImageDataGenerator"
      ]
    },
    {
      "cell_type": "code",
      "execution_count": null,
      "metadata": {
        "colab": {
          "background_save": true
        },
        "id": "Sj7o2-iAuQ3E"
      },
      "outputs": [],
      "source": [
        "train_datagen=ImageDataGenerator(horizontal_flip=True,rescale=1./255,zoom_range=0.2)\n",
        "#rescale=1./255 means transform every pixel value from range [0,255] -> [0,1]."
      ]
    },
    {
      "cell_type": "code",
      "execution_count": null,
      "metadata": {
        "colab": {
          "background_save": true
        },
        "id": "zDQZREueuUu9"
      },
      "outputs": [],
      "source": [
        "test_datagen=ImageDataGenerator(rescale=1./255)"
      ]
    },
    {
      "cell_type": "code",
      "execution_count": null,
      "metadata": {
        "colab": {
          "background_save": true
        },
        "id": "rMMspDgguWtk"
      },
      "outputs": [],
      "source": [
        "import tensorflow as tf\n"
      ]
    },
    {
      "cell_type": "markdown",
      "metadata": {
        "id": "GECj9I3suewY"
      },
      "source": [
        "X_train=train_datagen.flow_from_directory(\"coaltrain/\",target_size=(128,128),class_mode='categorical',batch_size=4)"
      ]
    },
    {
      "cell_type": "code",
      "execution_count": null,
      "metadata": {
        "colab": {
          "base_uri": "https://localhost:8080/"
        },
        "id": "VDpiNA4Burci",
        "outputId": "4c320ae0-03df-4a41-e5bd-943702911b24"
      },
      "outputs": [
        {
          "name": "stdout",
          "output_type": "stream",
          "text": [
            "Mounted at /content/drive\n"
          ]
        }
      ],
      "source": [
        "from google.colab import drive\n",
        "drive.mount('/content/drive')\n"
      ]
    },
    {
      "cell_type": "code",
      "execution_count": null,
      "metadata": {
        "id": "trFti8TaLeaz"
      },
      "outputs": [],
      "source": [
        "import zipfile\n",
        "import os"
      ]
    },
    {
      "cell_type": "code",
      "execution_count": null,
      "metadata": {
        "id": "ISaoc6DuMVU0"
      },
      "outputs": [],
      "source": [
        "zip_train = zipfile.ZipFile('/content/drive/MyDrive/Dataset.zip', 'r') #Opens the zip file in read mode\n",
        "zip_train.extractall('/tmp') #Extracts the files into the /tmp folder\n",
        "zip_train.close()"
      ]
    },
    {
      "cell_type": "code",
      "execution_count": null,
      "metadata": {
        "colab": {
          "base_uri": "https://localhost:8080/"
        },
        "id": "Vjy5eDmfN_SX",
        "outputId": "773da0d3-20e8-405f-f290-e40d11e18dce"
      },
      "outputs": [
        {
          "name": "stdout",
          "output_type": "stream",
          "text": [
            "Found 242 images belonging to 4 classes.\n",
            "Found 108 images belonging to 4 classes.\n"
          ]
        }
      ],
      "source": [
        "from keras.preprocessing.image import ImageDataGenerator\n",
        "train_datagen = ImageDataGenerator(rescale = 1./255,shear_range=0.2,zoom_range=0.2,horizontal_flip=True)\n",
        "test_datagen = ImageDataGenerator(rescale = 1./255)\n",
        "x_train = train_datagen.flow_from_directory(r'/tmp/Dataset/coaltrain',target_size = (64,64) ,batch_size = 5,color_mode='rgb',class_mode = 'sparse')\n",
        "x_test = test_datagen.flow_from_directory(r'/tmp/Dataset/coaltest',target_size = (64,64) ,batch_size = 5,color_mode='rgb',class_mode = 'sparse')"
      ]
    },
    {
      "cell_type": "code",
      "execution_count": null,
      "metadata": {
        "id": "xlFTXsLHOkSL"
      },
      "outputs": [],
      "source": [
        "train_datagen=ImageDataGenerator(horizontal_flip=True,rescale=1./255,zoom_range=0.2)\n",
        "#rescale=1./255 means transform every pixel value from range [0,255] -> [0,1]."
      ]
    },
    {
      "cell_type": "code",
      "execution_count": null,
      "metadata": {
        "id": "be2KrYhHPslm"
      },
      "outputs": [],
      "source": [
        "test_datagen=ImageDataGenerator(rescale=1./255)"
      ]
    },
    {
      "cell_type": "code",
      "execution_count": null,
      "metadata": {
        "colab": {
          "base_uri": "https://localhost:8080/"
        },
        "id": "UpbPmt8TPwG8",
        "outputId": "23fe4665-3bff-45c6-cdb8-37cda59a11e3"
      },
      "outputs": [
        {
          "name": "stdout",
          "output_type": "stream",
          "text": [
            "Found 242 images belonging to 4 classes.\n"
          ]
        }
      ],
      "source": [
        "X_train=train_datagen.flow_from_directory(\"/tmp/Dataset/coaltrain\",target_size=(128,128),class_mode='categorical',batch_size=4)"
      ]
    },
    {
      "cell_type": "code",
      "execution_count": null,
      "metadata": {
        "colab": {
          "base_uri": "https://localhost:8080/"
        },
        "id": "GduA0vJOP9cE",
        "outputId": "5e606a73-7b01-4352-c7cb-7cad4b764992"
      },
      "outputs": [
        {
          "name": "stdout",
          "output_type": "stream",
          "text": [
            "Found 108 images belonging to 4 classes.\n"
          ]
        }
      ],
      "source": [
        "X_test=test_datagen.flow_from_directory(\"/tmp/Dataset/coaltest\",target_size=(128,128),class_mode='categorical',batch_size=4)"
      ]
    },
    {
      "cell_type": "code",
      "execution_count": null,
      "metadata": {
        "colab": {
          "base_uri": "https://localhost:8080/"
        },
        "id": "OxuA1p4PQI6Q",
        "outputId": "0732a082-3346-4101-db38-1ab7f8960164"
      },
      "outputs": [
        {
          "data": {
            "text/plain": [
              "{'Anthracite': 0, 'Bituminous': 1, 'Lignite': 2, 'Peat': 3}"
            ]
          },
          "execution_count": 15,
          "metadata": {},
          "output_type": "execute_result"
        }
      ],
      "source": [
        "X_train.class_indices"
      ]
    },
    {
      "cell_type": "code",
      "execution_count": null,
      "metadata": {
        "id": "Pk7gjqMlQNqf"
      },
      "outputs": [],
      "source": [
        "model=Sequential()"
      ]
    },
    {
      "cell_type": "code",
      "execution_count": null,
      "metadata": {
        "id": "O_CNosIHQR2C"
      },
      "outputs": [],
      "source": [
        "model.add(Convolution2D(32,(3,3),input_shape=(128,128,3),activation='relu'))"
      ]
    },
    {
      "cell_type": "code",
      "execution_count": null,
      "metadata": {
        "id": "HGqHS-xuQVEL"
      },
      "outputs": [],
      "source": [
        "model.add(MaxPooling2D(pool_size=(2,2)))"
      ]
    },
    {
      "cell_type": "code",
      "execution_count": null,
      "metadata": {
        "id": "-7PQzZUuQYZl"
      },
      "outputs": [],
      "source": [
        "model.add(Convolution2D(32,(3,3),activation='relu'))\n"
      ]
    },
    {
      "cell_type": "code",
      "execution_count": null,
      "metadata": {
        "id": "aYE1VLJJQeRG"
      },
      "outputs": [],
      "source": [
        "model.add(MaxPooling2D(pool_size=(2,2)))"
      ]
    },
    {
      "cell_type": "code",
      "execution_count": null,
      "metadata": {
        "id": "gtyA98sgQjFy"
      },
      "outputs": [],
      "source": [
        "model.add(Flatten())"
      ]
    },
    {
      "cell_type": "code",
      "execution_count": null,
      "metadata": {
        "colab": {
          "base_uri": "https://localhost:8080/"
        },
        "id": "JE4cmUE4Qo7Q",
        "outputId": "01f06ff0-82b1-4cc8-93a7-dabb1ffd04ee"
      },
      "outputs": [
        {
          "name": "stdout",
          "output_type": "stream",
          "text": [
            "Model: \"sequential\"\n",
            "_________________________________________________________________\n",
            " Layer (type)                Output Shape              Param #   \n",
            "=================================================================\n",
            " conv2d (Conv2D)             (None, 126, 126, 32)      896       \n",
            "                                                                 \n",
            " max_pooling2d (MaxPooling2  (None, 63, 63, 32)        0         \n",
            " D)                                                              \n",
            "                                                                 \n",
            " conv2d_1 (Conv2D)           (None, 61, 61, 32)        9248      \n",
            "                                                                 \n",
            " max_pooling2d_1 (MaxPoolin  (None, 30, 30, 32)        0         \n",
            " g2D)                                                            \n",
            "                                                                 \n",
            " flatten (Flatten)           (None, 28800)             0         \n",
            "                                                                 \n",
            "=================================================================\n",
            "Total params: 10144 (39.62 KB)\n",
            "Trainable params: 10144 (39.62 KB)\n",
            "Non-trainable params: 0 (0.00 Byte)\n",
            "_________________________________________________________________\n"
          ]
        }
      ],
      "source": [
        "model.summary()"
      ]
    },
    {
      "cell_type": "code",
      "execution_count": null,
      "metadata": {
        "id": "qzyr_bRLQuxh"
      },
      "outputs": [],
      "source": [
        "model.add(Dense(300,activation='relu'))#hidden layer\n",
        "model.add(Dense(150,activation='relu'))#hidden layer\n",
        "model.add(Dense(4,activation='softmax'))#output layer"
      ]
    },
    {
      "cell_type": "code",
      "execution_count": null,
      "metadata": {
        "id": "q5hC-NE6Qw4V"
      },
      "outputs": [],
      "source": [
        "model.compile(optimizer=\"adam\",loss=\"categorical_crossentropy\",metrics=['accuracy'])"
      ]
    },
    {
      "cell_type": "code",
      "execution_count": null,
      "metadata": {
        "colab": {
          "background_save": true,
          "base_uri": "https://localhost:8080/"
        },
        "id": "ApBDxThjQ3nU",
        "outputId": "6bd16f15-0f4f-4d99-ad70-01f8423c3cc8"
      },
      "outputs": [
        {
          "name": "stdout",
          "output_type": "stream",
          "text": [
            "Epoch 1/30\n"
          ]
        },
        {
          "name": "stderr",
          "output_type": "stream",
          "text": [
            "<ipython-input-28-75a80b97d3a3>:1: UserWarning: `Model.fit_generator` is deprecated and will be removed in a future version. Please use `Model.fit`, which supports generators.\n",
            "  model.fit_generator(X_train,validation_data=X_test,epochs=30)\n"
          ]
        },
        {
          "name": "stdout",
          "output_type": "stream",
          "text": [
            "61/61 [==============================] - 19s 294ms/step - loss: 1.4785 - accuracy: 0.2562 - val_loss: 1.5047 - val_accuracy: 0.1111\n",
            "Epoch 2/30\n",
            "61/61 [==============================] - 19s 306ms/step - loss: 1.3636 - accuracy: 0.3306 - val_loss: 1.4825 - val_accuracy: 0.1389\n",
            "Epoch 3/30\n",
            "61/61 [==============================] - 17s 274ms/step - loss: 1.3586 - accuracy: 0.3512 - val_loss: 1.5346 - val_accuracy: 0.2407\n",
            "Epoch 4/30\n",
            "61/61 [==============================] - 18s 290ms/step - loss: 1.3413 - accuracy: 0.3595 - val_loss: 1.7402 - val_accuracy: 0.2685\n",
            "Epoch 5/30\n",
            "61/61 [==============================] - 17s 278ms/step - loss: 1.2480 - accuracy: 0.3926 - val_loss: 1.5457 - val_accuracy: 0.2963\n",
            "Epoch 6/30\n",
            "61/61 [==============================] - 17s 282ms/step - loss: 1.2246 - accuracy: 0.4132 - val_loss: 1.5517 - val_accuracy: 0.2593\n",
            "Epoch 7/30\n",
            "61/61 [==============================] - 18s 300ms/step - loss: 1.1871 - accuracy: 0.4876 - val_loss: 2.3996 - val_accuracy: 0.2222\n",
            "Epoch 8/30\n",
            "61/61 [==============================] - 17s 272ms/step - loss: 1.2232 - accuracy: 0.4339 - val_loss: 1.5125 - val_accuracy: 0.3796\n",
            "Epoch 9/30\n",
            "61/61 [==============================] - 17s 276ms/step - loss: 1.0799 - accuracy: 0.5331 - val_loss: 2.8895 - val_accuracy: 0.1944\n",
            "Epoch 10/30\n",
            "61/61 [==============================] - 17s 271ms/step - loss: 1.1054 - accuracy: 0.5413 - val_loss: 1.6343 - val_accuracy: 0.2963\n",
            "Epoch 11/30\n",
            "61/61 [==============================] - 17s 271ms/step - loss: 1.0834 - accuracy: 0.5207 - val_loss: 2.5356 - val_accuracy: 0.1944\n",
            "Epoch 12/30\n",
            "61/61 [==============================] - 17s 276ms/step - loss: 0.9140 - accuracy: 0.6240 - val_loss: 2.5192 - val_accuracy: 0.2593\n",
            "Epoch 13/30\n",
            "61/61 [==============================] - 18s 302ms/step - loss: 0.8921 - accuracy: 0.6405 - val_loss: 3.3413 - val_accuracy: 0.2315\n",
            "Epoch 14/30\n",
            "61/61 [==============================] - 17s 271ms/step - loss: 0.8544 - accuracy: 0.6777 - val_loss: 3.0986 - val_accuracy: 0.1667\n",
            "Epoch 15/30\n",
            "61/61 [==============================] - 17s 272ms/step - loss: 0.7845 - accuracy: 0.7149 - val_loss: 2.7799 - val_accuracy: 0.2593\n",
            "Epoch 16/30\n",
            "61/61 [==============================] - 17s 271ms/step - loss: 0.8037 - accuracy: 0.6777 - val_loss: 2.4612 - val_accuracy: 0.2315\n",
            "Epoch 17/30\n",
            "61/61 [==============================] - 19s 306ms/step - loss: 0.7429 - accuracy: 0.7190 - val_loss: 2.8001 - val_accuracy: 0.2870\n",
            "Epoch 18/30\n",
            "61/61 [==============================] - 17s 274ms/step - loss: 0.6567 - accuracy: 0.7355 - val_loss: 2.5615 - val_accuracy: 0.2778\n",
            "Epoch 19/30\n",
            "61/61 [==============================] - 18s 293ms/step - loss: 0.7002 - accuracy: 0.7231 - val_loss: 3.0721 - val_accuracy: 0.2685\n",
            "Epoch 20/30\n",
            "61/61 [==============================] - 17s 274ms/step - loss: 0.6770 - accuracy: 0.7231 - val_loss: 3.1907 - val_accuracy: 0.2500\n",
            "Epoch 21/30\n",
            "61/61 [==============================] - 18s 296ms/step - loss: 0.4887 - accuracy: 0.8140 - val_loss: 4.2114 - val_accuracy: 0.2407\n",
            "Epoch 22/30\n",
            "61/61 [==============================] - 17s 269ms/step - loss: 0.5304 - accuracy: 0.8017 - val_loss: 3.5396 - val_accuracy: 0.2870\n",
            "Epoch 23/30\n",
            "61/61 [==============================] - 17s 276ms/step - loss: 0.5004 - accuracy: 0.8058 - val_loss: 4.8636 - val_accuracy: 0.2500\n",
            "Epoch 24/30\n",
            "61/61 [==============================] - 19s 303ms/step - loss: 0.5673 - accuracy: 0.7934 - val_loss: 4.9751 - val_accuracy: 0.2500\n",
            "Epoch 25/30\n",
            "61/61 [==============================] - 17s 271ms/step - loss: 0.5054 - accuracy: 0.8223 - val_loss: 4.4307 - val_accuracy: 0.2500\n",
            "Epoch 26/30\n",
            "61/61 [==============================] - 17s 281ms/step - loss: 0.5556 - accuracy: 0.8140 - val_loss: 3.9281 - val_accuracy: 0.2593\n",
            "Epoch 27/30\n",
            "61/61 [==============================] - 19s 304ms/step - loss: 0.4637 - accuracy: 0.8306 - val_loss: 4.0384 - val_accuracy: 0.2685\n",
            "Epoch 28/30\n",
            "61/61 [==============================] - 17s 271ms/step - loss: 0.4580 - accuracy: 0.8347 - val_loss: 3.5700 - val_accuracy: 0.2593\n",
            "Epoch 29/30\n",
            "61/61 [==============================] - 17s 279ms/step - loss: 0.3704 - accuracy: 0.8636 - val_loss: 4.3508 - val_accuracy: 0.2222\n",
            "Epoch 30/30\n",
            "61/61 [==============================] - 17s 270ms/step - loss: 0.3525 - accuracy: 0.8719 - val_loss: 3.7945 - val_accuracy: 0.2593\n"
          ]
        },
        {
          "data": {
            "text/plain": [
              "<keras.src.callbacks.History at 0x7e23c57a17e0>"
            ]
          },
          "execution_count": 28,
          "metadata": {},
          "output_type": "execute_result"
        }
      ],
      "source": [
        "model.fit_generator(X_train,validation_data=X_test,epochs=30)"
      ]
    },
    {
      "cell_type": "code",
      "execution_count": null,
      "metadata": {
        "colab": {
          "background_save": true
        },
        "id": "uVvwKeY2T5kj",
        "outputId": "ee86cbf3-7b26-4e7a-c75e-9369e6c205d1"
      },
      "outputs": [
        {
          "name": "stderr",
          "output_type": "stream",
          "text": [
            "/usr/local/lib/python3.10/dist-packages/keras/src/engine/training.py:3000: UserWarning: You are saving your model as an HDF5 file via `model.save()`. This file format is considered legacy. We recommend using instead the native Keras format, e.g. `model.save('my_model.keras')`.\n",
            "  saving_api.save_model(\n"
          ]
        }
      ],
      "source": [
        "model.save('coal1.h5')"
      ]
    },
    {
      "cell_type": "code",
      "execution_count": null,
      "metadata": {
        "colab": {
          "background_save": true
        },
        "id": "6f9p6DZlUMlZ"
      },
      "outputs": [],
      "source": [
        "import numpy as np\n",
        "from keras.preprocessing import image"
      ]
    },
    {
      "cell_type": "code",
      "execution_count": null,
      "metadata": {
        "colab": {
          "background_save": true
        },
        "id": "3p4xl5vDUPLD"
      },
      "outputs": [],
      "source": [
        "from tensorflow.keras.models import load_model\n",
        "model.load_weights('coal1.h5')"
      ]
    },
    {
      "cell_type": "code",
      "execution_count": null,
      "metadata": {
        "colab": {
          "background_save": true
        },
        "id": "tsDkDxTGUTCT",
        "outputId": "4ee6b35f-969c-483a-d67d-f269ed698a4e"
      },
      "outputs": [
        {
          "data": {
            "text/plain": [
              "(128, 128, 3)"
            ]
          },
          "execution_count": 32,
          "metadata": {},
          "output_type": "execute_result"
        }
      ],
      "source": [
        "img=image.load_img(\"/tmp/Dataset/coaltrain/Lignite/13.jpg\",target_size=(128,128))\n",
        "x=image.img_to_array(img)#img to array\n",
        "x.shape"
      ]
    },
    {
      "cell_type": "code",
      "execution_count": null,
      "metadata": {
        "colab": {
          "background_save": true
        },
        "id": "lKaZv6y1VfqW",
        "outputId": "ac50f120-2c42-4014-ab9e-0225e453d7f4"
      },
      "outputs": [
        {
          "data": {
            "text/plain": [
              "(1, 128, 128, 3)"
            ]
          },
          "execution_count": 33,
          "metadata": {},
          "output_type": "execute_result"
        }
      ],
      "source": [
        "x=np.expand_dims(x,axis=0)#used for adding one more dimension\n",
        "x.shape\n"
      ]
    },
    {
      "cell_type": "code",
      "execution_count": null,
      "metadata": {
        "colab": {
          "background_save": true
        },
        "id": "rRVvq9iFVhWm",
        "outputId": "bd0daf0f-5a5d-40ef-8de5-8cea626f36ec"
      },
      "outputs": [
        {
          "name": "stdout",
          "output_type": "stream",
          "text": [
            "1/1 [==============================] - 0s 151ms/step\n"
          ]
        },
        {
          "data": {
            "text/plain": [
              "array([[1., 0., 0., 0.]], dtype=float32)"
            ]
          },
          "execution_count": 34,
          "metadata": {},
          "output_type": "execute_result"
        }
      ],
      "source": [
        "prediction=model.predict(x)#instead of predict_classes(x) we can use predict(X)\n",
        "prediction\n"
      ]
    },
    {
      "cell_type": "code",
      "execution_count": null,
      "metadata": {
        "colab": {
          "background_save": true
        },
        "id": "6KkIEdE5V1XE"
      },
      "outputs": [],
      "source": [
        "\n",
        "index=[\"Anthracite\",\"Bituminous\",\"Lignite\",\"Peat\"]\n"
      ]
    },
    {
      "cell_type": "code",
      "execution_count": null,
      "metadata": {
        "colab": {
          "background_save": true
        },
        "id": "RfyHl1Dh1W7F",
        "outputId": "d873cef1-0206-46f8-ca3f-cb591dad8aea"
      },
      "outputs": [
        {
          "data": {
            "text/plain": [
              "0"
            ]
          },
          "execution_count": 36,
          "metadata": {},
          "output_type": "execute_result"
        }
      ],
      "source": [
        "prediction=np.argmax(prediction)\n",
        "prediction"
      ]
    },
    {
      "cell_type": "code",
      "execution_count": null,
      "metadata": {
        "colab": {
          "background_save": true
        },
        "id": "mL6Vae5HWHb5",
        "outputId": "f35ebf6a-ca55-4701-cd9c-8d96ecb4b8e5"
      },
      "outputs": [
        {
          "data": {
            "application/vnd.google.colaboratory.intrinsic+json": {
              "type": "string"
            },
            "text/plain": [
              "'Anthracite'"
            ]
          },
          "execution_count": 37,
          "metadata": {},
          "output_type": "execute_result"
        }
      ],
      "source": [
        "result=str(index[prediction])\n",
        "result"
      ]
    }
  ],
  "metadata": {
    "colab": {
      "provenance": []
    },
    "kernelspec": {
      "display_name": "Python 3",
      "name": "python3"
    },
    "language_info": {
      "name": "python"
    }
  },
  "nbformat": 4,
  "nbformat_minor": 0
}